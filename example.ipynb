{
 "cells": [
  {
   "cell_type": "code",
   "execution_count": 1,
   "metadata": {
    "collapsed": true
   },
   "outputs": [],
   "source": [
    "from Princess import Princess_Syndrome"
   ]
  },
  {
   "cell_type": "code",
   "execution_count": 4,
   "metadata": {},
   "outputs": [
    {
     "name": "stdout",
     "output_type": "stream",
     "text": [
      "Status: Optimal\n"
     ]
    },
    {
     "data": {
      "text/html": [
       "<div>\n",
       "<style>\n",
       "    .dataframe thead tr:only-child th {\n",
       "        text-align: right;\n",
       "    }\n",
       "\n",
       "    .dataframe thead th {\n",
       "        text-align: left;\n",
       "    }\n",
       "\n",
       "    .dataframe tbody tr th {\n",
       "        vertical-align: top;\n",
       "    }\n",
       "</style>\n",
       "<table border=\"1\" class=\"dataframe\">\n",
       "  <thead>\n",
       "    <tr style=\"text-align: right;\">\n",
       "      <th></th>\n",
       "      <th>0</th>\n",
       "      <th>1</th>\n",
       "      <th>2</th>\n",
       "      <th>3</th>\n",
       "    </tr>\n",
       "  </thead>\n",
       "  <tbody>\n",
       "    <tr>\n",
       "      <th>A</th>\n",
       "      <td>0.0</td>\n",
       "      <td>1.0</td>\n",
       "      <td>0.0</td>\n",
       "      <td>0.0</td>\n",
       "    </tr>\n",
       "    <tr>\n",
       "      <th>B</th>\n",
       "      <td>0.0</td>\n",
       "      <td>0.0</td>\n",
       "      <td>0.0</td>\n",
       "      <td>1.0</td>\n",
       "    </tr>\n",
       "    <tr>\n",
       "      <th>C</th>\n",
       "      <td>1.0</td>\n",
       "      <td>0.0</td>\n",
       "      <td>0.0</td>\n",
       "      <td>0.0</td>\n",
       "    </tr>\n",
       "  </tbody>\n",
       "</table>\n",
       "</div>"
      ],
      "text/plain": [
       "     0    1    2    3\n",
       "A  0.0  1.0  0.0  0.0\n",
       "B  0.0  0.0  0.0  1.0\n",
       "C  1.0  0.0  0.0  0.0"
      ]
     },
     "metadata": {},
     "output_type": "display_data"
    }
   ],
   "source": [
    "arg = {\n",
    "    'characteristic': [\"A\",\"B\",\"C\"], # 工具人有幾項工作要做\n",
    "    'peoples' : [\"0\",\"1\",\"2\",\"3\"], # 手上有幾個工具人(必須是0-n)\n",
    "    'costs' : {\n",
    "        'A':[2,4,5,5], # 從0-3號工具人 做Ａ工作所需要的cost\n",
    "        'B':[0,99,99,5], # 從0-3號工具人 做B工作所需要的cost\n",
    "        'C':[1,2,1,5] # 從0-3號工具人 做C工作所需要的cost\n",
    "    },\n",
    "    'quality' : {\n",
    "        'A':[1,2,3,5], # 從0-3號工具人 做Ａ工作所做的品質（可以想成工具人寫作業，每個工具人寫出來的分數不一樣）\n",
    "        'B':[4,5,6,5], # 從0-3號工具人 做B工作所做的品質\n",
    "        'C':[7,8,9,5] # 從0-3號工具人 做C工作所做的品質\n",
    "    },\n",
    "    'demand' : {\n",
    "        'A':2, #A工作最低需要的品質 可以想成你希望工具人幫你寫作業，但至少寫出來要60分吧？\n",
    "        'B':5, #B工作最低需要的品質\n",
    "        'C':7  #C工作最低需要的品質\n",
    "    },\n",
    "}\n",
    "\n",
    "Princess = Princess_Syndrome(arg)\n",
    "result = Princess.solve()\n",
    "Princess.print_result()"
   ]
  },
  {
   "cell_type": "code",
   "execution_count": 3,
   "metadata": {},
   "outputs": [
    {
     "data": {
      "text/plain": [
       "10.0"
      ]
     },
     "execution_count": 3,
     "metadata": {},
     "output_type": "execute_result"
    }
   ],
   "source": [
    "Princess.loss() #總成本"
   ]
  },
  {
   "cell_type": "code",
   "execution_count": 1,
   "metadata": {
    "collapsed": true
   },
   "outputs": [],
   "source": [
    "import numpy as np"
   ]
  },
  {
   "cell_type": "code",
   "execution_count": 10,
   "metadata": {},
   "outputs": [
    {
     "name": "stdout",
     "output_type": "stream",
     "text": [
      "[ 62.67577832  50.45988989  59.81968637  58.23464468  58.74522314]\n",
      "[ 78.27795615  80.19177331  73.22139319  74.48580965  79.14250144]\n",
      "[ 94.9171405   95.43180825  83.7914595   84.9505391   79.47272129]\n",
      "[ 77.30087707  66.97801586  76.75618065  82.1177153   75.72382989]\n",
      "[ 88.8414469   82.29058764  81.01579826  76.26119109  86.40903681]\n"
     ]
    }
   ],
   "source": [
    "def gen_data(mean,num,std = 5):\n",
    "    return np.random.normal(mean, std, num)\n",
    "\n",
    "num = 5\n",
    "array = [60,75,90,80,85]\n",
    "for e in array:\n",
    "    print(gen_data(e,num))"
   ]
  },
  {
   "cell_type": "code",
   "execution_count": 11,
   "metadata": {},
   "outputs": [
    {
     "name": "stdout",
     "output_type": "stream",
     "text": [
      "[ 65.92627389  53.68144095  54.8428643   57.88961829  53.97201671]\n",
      "[ 82.27187517  72.2773425   68.36013685  70.82068056  73.216982  ]\n",
      "[ 86.33735506  85.47554073  94.86559769  85.85512828  90.80384008]\n",
      "[ 81.82848358  84.81851669  81.56259151  82.25083047  83.37700525]\n",
      "[ 78.66909659  92.40899159  85.6629489   82.70513902  81.56786418]\n"
     ]
    }
   ],
   "source": [
    "num = 5\n",
    "array = [60,75,90,80,85]\n",
    "for e in array:\n",
    "    print(gen_data(e,num))"
   ]
  },
  {
   "cell_type": "code",
   "execution_count": null,
   "metadata": {
    "collapsed": true
   },
   "outputs": [],
   "source": []
  }
 ],
 "metadata": {
  "kernelspec": {
   "display_name": "Python 3",
   "language": "python",
   "name": "python3"
  },
  "language_info": {
   "codemirror_mode": {
    "name": "ipython",
    "version": 3
   },
   "file_extension": ".py",
   "mimetype": "text/x-python",
   "name": "python",
   "nbconvert_exporter": "python",
   "pygments_lexer": "ipython3",
   "version": "3.6.1"
  }
 },
 "nbformat": 4,
 "nbformat_minor": 2
}
