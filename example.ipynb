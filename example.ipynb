{
 "cells": [
  {
   "cell_type": "code",
   "execution_count": 1,
   "metadata": {},
   "outputs": [],
   "source": [
    "from Princess import Princess_Syndrome"
   ]
  },
  {
   "cell_type": "code",
   "execution_count": 4,
   "metadata": {},
   "outputs": [
    {
     "name": "stdout",
     "output_type": "stream",
     "text": [
      "Status: Optimal\n"
     ]
    },
    {
     "data": {
      "text/html": [
       "<div>\n",
       "<style>\n",
       "    .dataframe thead tr:only-child th {\n",
       "        text-align: right;\n",
       "    }\n",
       "\n",
       "    .dataframe thead th {\n",
       "        text-align: left;\n",
       "    }\n",
       "\n",
       "    .dataframe tbody tr th {\n",
       "        vertical-align: top;\n",
       "    }\n",
       "</style>\n",
       "<table border=\"1\" class=\"dataframe\">\n",
       "  <thead>\n",
       "    <tr style=\"text-align: right;\">\n",
       "      <th></th>\n",
       "      <th>0</th>\n",
       "      <th>1</th>\n",
       "      <th>2</th>\n",
       "      <th>3</th>\n",
       "    </tr>\n",
       "  </thead>\n",
       "  <tbody>\n",
       "    <tr>\n",
       "      <th>A</th>\n",
       "      <td>0.0</td>\n",
       "      <td>1.0</td>\n",
       "      <td>0.0</td>\n",
       "      <td>0.0</td>\n",
       "    </tr>\n",
       "    <tr>\n",
       "      <th>B</th>\n",
       "      <td>0.0</td>\n",
       "      <td>0.0</td>\n",
       "      <td>0.0</td>\n",
       "      <td>1.0</td>\n",
       "    </tr>\n",
       "    <tr>\n",
       "      <th>C</th>\n",
       "      <td>1.0</td>\n",
       "      <td>0.0</td>\n",
       "      <td>0.0</td>\n",
       "      <td>0.0</td>\n",
       "    </tr>\n",
       "  </tbody>\n",
       "</table>\n",
       "</div>"
      ],
      "text/plain": [
       "     0    1    2    3\n",
       "A  0.0  1.0  0.0  0.0\n",
       "B  0.0  0.0  0.0  1.0\n",
       "C  1.0  0.0  0.0  0.0"
      ]
     },
     "metadata": {},
     "output_type": "display_data"
    }
   ],
   "source": [
    "arg = {\n",
    "    'characteristic': [\"A\",\"B\",\"C\"], # 工具人有幾項工作要做\n",
    "    'peoples' : [\"0\",\"1\",\"2\",\"3\"], # 手上有幾個工具人(必須是0-n)\n",
    "    'costs' : {\n",
    "        'A':[2,4,5,5], # 從0-3號工具人 做Ａ工作所需要的cost\n",
    "        'B':[0,99,99,5], # 從0-3號工具人 做B工作所需要的cost\n",
    "        'C':[1,2,1,5] # 從0-3號工具人 做C工作所需要的cost\n",
    "    },\n",
    "    'quality' : {\n",
    "        'A':[1,2,3,5], # 從0-3號工具人 做Ａ工作所做的品質（可以想成工具人寫作業，每個工具人寫出來的分數不一樣）\n",
    "        'B':[4,5,6,5], # 從0-3號工具人 做B工作所做的品質\n",
    "        'C':[7,8,9,5] # 從0-3號工具人 做C工作所做的品質\n",
    "    },\n",
    "    'demand' : {\n",
    "        'A':2, #A工作最低需要的品質 可以想成你希望工具人幫你寫作業，但至少寫出來要60分吧？\n",
    "        'B':5, #B工作最低需要的品質\n",
    "        'C':7  #C工作最低需要的品質\n",
    "    },\n",
    "}\n",
    "\n",
    "Princess = Princess_Syndrome(arg)\n",
    "result = Princess.solve()\n",
    "Princess.print_result()"
   ]
  },
  {
   "cell_type": "code",
   "execution_count": 3,
   "metadata": {},
   "outputs": [
    {
     "data": {
      "text/plain": [
       "10.0"
      ]
     },
     "execution_count": 3,
     "metadata": {},
     "output_type": "execute_result"
    }
   ],
   "source": [
    "Princess.loss() #總成本"
   ]
  },
  {
   "cell_type": "code",
   "execution_count": null,
   "metadata": {
    "collapsed": true
   },
   "outputs": [],
   "source": []
  }
 ],
 "metadata": {
  "kernelspec": {
   "display_name": "Python 3",
   "language": "python",
   "name": "python3"
  },
  "language_info": {
   "codemirror_mode": {
    "name": "ipython",
    "version": 3
   },
   "file_extension": ".py",
   "mimetype": "text/x-python",
   "name": "python",
   "nbconvert_exporter": "python",
   "pygments_lexer": "ipython3",
   "version": "3.6.1"
  }
 },
 "nbformat": 4,
 "nbformat_minor": 2
}
